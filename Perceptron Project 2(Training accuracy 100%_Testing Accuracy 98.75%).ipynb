{
 "cells": [
  {
   "cell_type": "code",
   "execution_count": 1,
   "id": "aa54c71c",
   "metadata": {},
   "outputs": [],
   "source": [
    "import random\n",
    "import pandas as pd\n",
    "import numpy as np\n",
    "import matplotlib.pyplot as plt "
   ]
  },
  {
   "cell_type": "code",
   "execution_count": 2,
   "id": "910f42d0",
   "metadata": {},
   "outputs": [],
   "source": [
    "#randomly generating the negative samples\n",
    "result = []\n",
    "\n",
    "count_negative =  0\n",
    "while count_negative < 200:\n",
    "    x1 = round(random.uniform(0,3.3),2)\n",
    "    x2 = round(random.uniform(0,2.5),2)\n",
    "\n",
    "    if 3*x1 + 4*x2 -10 < 0:\n",
    "        result.append([x1,x2,-1])\n",
    "        count_negative +=1\n",
    "\n"
   ]
  },
  {
   "cell_type": "code",
   "execution_count": 3,
   "id": "98173eb5",
   "metadata": {},
   "outputs": [],
   "source": [
    "#randomly generating the positive samples\n",
    "count_positive =  0\n",
    "while count_positive < 200:\n",
    "    x1 = round(random.uniform(0,3.3),2)\n",
    "    x2 = round(random.uniform(0,2.5),2)\n",
    "\n",
    "    if 3*x1 + 4*x2 -10 > 0:\n",
    "        result.append([x1,x2,+1])\n",
    "        count_positive +=1\n"
   ]
  },
  {
   "cell_type": "code",
   "execution_count": 4,
   "id": "c1362ad8",
   "metadata": {
    "scrolled": true
   },
   "outputs": [
    {
     "name": "stdout",
     "output_type": "stream",
     "text": [
      "       x1    x2  y\n",
      "0    1.97  0.02 -1\n",
      "1    0.07  2.30 -1\n",
      "2    1.82  0.17 -1\n",
      "3    1.66  0.16 -1\n",
      "4    0.10  1.45 -1\n",
      "..    ...   ... ..\n",
      "395  2.95  0.49  1\n",
      "396  1.57  1.44  1\n",
      "397  2.99  0.47  1\n",
      "398  1.52  1.77  1\n",
      "399  0.45  2.35  1\n",
      "\n",
      "[400 rows x 3 columns]\n"
     ]
    }
   ],
   "source": [
    "#putting all the randomly generated positive and negative samples in a dataset\n",
    "dataset = pd.DataFrame(result,columns = [\"x1\",\"x2\",\"y\"])\n",
    "print(dataset)\n"
   ]
  },
  {
   "cell_type": "code",
   "execution_count": 5,
   "id": "b7a76554",
   "metadata": {},
   "outputs": [
    {
     "name": "stdout",
     "output_type": "stream",
     "text": [
      "The total of records is \n",
      " \n",
      "x1    400\n",
      "x2    400\n",
      "y     400\n",
      "dtype: int64\n"
     ]
    }
   ],
   "source": [
    "count = dataset.count()\n",
    "print(f\"The total of records is \\n \\n{count}\")"
   ]
  },
  {
   "cell_type": "code",
   "execution_count": 6,
   "id": "9d32beb5",
   "metadata": {},
   "outputs": [],
   "source": [
    "# Get the independent(x1 and x2) and Dependent(y1) values \n",
    "\n",
    "x1 =list(dataset.iloc[0:,0:1].values)\n",
    "x2 =list(dataset.iloc[0:,1:2].values)\n",
    "y1 = list(dataset.iloc[0:,2:3].values)"
   ]
  },
  {
   "cell_type": "code",
   "execution_count": 7,
   "id": "39a562a4",
   "metadata": {},
   "outputs": [
    {
     "data": {
      "image/png": "[encoded data removed]",
      "text/plain": [
       "<Figure size 576x576 with 1 Axes>"
      ]
     },
     "metadata": {
      "needs_background": "light"
     },
     "output_type": "display_data"
    }
   ],
   "source": [
    "# Data Visualization of the dataset\n",
    "plot1 = plt\n",
    "plot1.rcParams[\"figure.figsize\"] = (8,8)\n",
    "for a,b,c in zip(x1,x2,y1):\n",
    "    if c == 1:\n",
    "        plot1.scatter(a, b, alpha=0.5, marker='+',color = 'blue',\n",
    "            label=\"Legend\", cmap=\"plasma\")\n",
    "    else:\n",
    "        plot1.scatter(a,b, alpha=0.5, marker='o', color = 'purple',\n",
    "            label =\"Legend\",cmap = 'plasma')"
   ]
  },
  {
   "cell_type": "code",
   "execution_count": 8,
   "id": "d6100858",
   "metadata": {},
   "outputs": [],
   "source": [
    "# Selecting the values of the independent and dependent for training\n",
    "X = dataset.iloc[:,0:2]\n",
    "y = dataset.iloc[:,2:]"
   ]
  },
  {
   "cell_type": "code",
   "execution_count": 9,
   "id": "3db96458",
   "metadata": {},
   "outputs": [],
   "source": [
    "# Data preprocessing \n",
    "from sklearn.preprocessing import StandardScaler\n",
    "sc = StandardScaler()\n",
    "#X = sc.fit_transform(X)"
   ]
  },
  {
   "cell_type": "code",
   "execution_count": 10,
   "id": "4d922b1e",
   "metadata": {},
   "outputs": [],
   "source": [
    "# Spliting the dataset into training and test set\n",
    "from sklearn.model_selection import train_test_split\n",
    "(X_train,X_test,y_train,y_test) = train_test_split(X,y,test_size = 0.2,random_state= 1000)  "
   ]
  },
  {
   "cell_type": "code",
   "execution_count": 11,
   "id": "6f9e88eb",
   "metadata": {},
   "outputs": [
    {
     "data": {
      "text/plain": [
       "Perceptron()"
      ]
     },
     "execution_count": 11,
     "metadata": {},
     "output_type": "execute_result"
    }
   ],
   "source": [
    "# Implementing the Perceptron learning algorithm\n",
    "\n",
    "from sklearn.linear_model import Perceptron\n",
    "\n",
    "# instantiate an object of the perceptron class\n",
    "model = Perceptron()\n",
    "\n",
    "# fitting the perceptron model on the train set\n",
    "model.fit(X_train,y_train.values.ravel())"
   ]
  },
  {
   "cell_type": "code",
   "execution_count": 12,
   "id": "ea0045ac",
   "metadata": {},
   "outputs": [
    {
     "data": {
      "text/plain": [
       "array([ 1,  1,  1, -1,  1, -1, -1,  1, -1,  1,  1, -1,  1, -1, -1,  1,  1,\n",
       "        1, -1,  1, -1,  1, -1, -1,  1,  1, -1,  1,  1, -1,  1,  1,  1, -1,\n",
       "        1, -1, -1, -1, -1, -1,  1,  1,  1,  1, -1, -1, -1,  1,  1,  1, -1,\n",
       "        1,  1, -1,  1, -1, -1,  1, -1,  1,  1, -1,  1,  1, -1, -1,  1,  1,\n",
       "       -1, -1,  1, -1,  1,  1, -1,  1, -1, -1, -1, -1, -1,  1, -1,  1, -1,\n",
       "        1,  1, -1, -1,  1, -1, -1,  1,  1, -1, -1,  1,  1, -1,  1, -1,  1,\n",
       "       -1, -1,  1,  1,  1, -1, -1, -1, -1,  1,  1, -1, -1,  1,  1, -1,  1,\n",
       "        1,  1, -1, -1, -1, -1,  1, -1, -1, -1,  1, -1,  1,  1,  1,  1, -1,\n",
       "       -1, -1, -1, -1,  1,  1, -1, -1,  1, -1,  1, -1, -1,  1, -1, -1, -1,\n",
       "       -1,  1, -1, -1, -1,  1,  1, -1, -1,  1,  1,  1,  1, -1, -1, -1, -1,\n",
       "        1,  1,  1,  1, -1,  1, -1,  1, -1,  1,  1, -1, -1, -1, -1,  1,  1,\n",
       "        1,  1, -1, -1,  1,  1, -1,  1,  1, -1,  1,  1, -1, -1, -1,  1,  1,\n",
       "        1,  1,  1,  1,  1, -1,  1,  1, -1,  1,  1, -1, -1, -1, -1,  1,  1,\n",
       "       -1, -1, -1,  1, -1, -1, -1, -1, -1, -1,  1, -1, -1,  1, -1, -1, -1,\n",
       "        1, -1,  1, -1, -1, -1, -1,  1,  1, -1,  1,  1, -1, -1,  1,  1, -1,\n",
       "       -1, -1, -1, -1,  1, -1, -1, -1,  1, -1, -1,  1,  1, -1, -1,  1, -1,\n",
       "       -1, -1,  1,  1,  1, -1, -1, -1,  1,  1,  1,  1, -1,  1, -1,  1, -1,\n",
       "       -1,  1,  1, -1,  1,  1,  1,  1,  1,  1,  1, -1,  1,  1,  1, -1,  1,\n",
       "        1,  1,  1, -1, -1,  1, -1,  1,  1,  1,  1, -1, -1, -1],\n",
       "      dtype=int64)"
      ]
     },
     "execution_count": 12,
     "metadata": {},
     "output_type": "execute_result"
    }
   ],
   "source": [
    "# Predicting the model on the training set \n",
    "predicted_train_value =model.predict(X_train)\n",
    "predicted_train_value"
   ]
  },
  {
   "cell_type": "code",
   "execution_count": 13,
   "id": "8775083b",
   "metadata": {},
   "outputs": [
    {
     "data": {
      "text/plain": [
       "array([ 1, -1,  1, -1,  1, -1,  1,  1,  1, -1, -1,  1,  1, -1, -1,  1, -1,\n",
       "       -1, -1,  1, -1,  1, -1, -1, -1,  1,  1, -1, -1,  1, -1,  1, -1, -1,\n",
       "       -1,  1, -1,  1,  1, -1,  1,  1, -1, -1,  1,  1,  1, -1, -1,  1, -1,\n",
       "        1,  1, -1,  1,  1, -1,  1, -1, -1,  1,  1,  1,  1,  1,  1, -1, -1,\n",
       "       -1,  1,  1,  1,  1, -1, -1, -1,  1,  1,  1,  1], dtype=int64)"
      ]
     },
     "execution_count": 13,
     "metadata": {},
     "output_type": "execute_result"
    }
   ],
   "source": [
    "# Predicting the model on the test set \n",
    "predicted_test_value =model.predict(X_test)\n",
    "predicted_test_value"
   ]
  },
  {
   "cell_type": "code",
   "execution_count": 14,
   "id": "bca650de",
   "metadata": {},
   "outputs": [
    {
     "name": "stdout",
     "output_type": "stream",
     "text": [
      "[[37  1]\n",
      " [ 0 42]]\n",
      "\n",
      "[[162   0]\n",
      " [  0 158]]\n"
     ]
    }
   ],
   "source": [
    "from sklearn.metrics import confusion_matrix,accuracy_score\n",
    "\n",
    "# Confusion matrix on the test set\n",
    "cm_test = confusion_matrix(y_test,predicted_test_value)\n",
    "print(cm_test)\n",
    "\n",
    "print()\n",
    "\n",
    "# Confusion Matrix on the train set\n",
    "cm_train = confusion_matrix(y_train,predicted_train_value)\n",
    "\n",
    "\n",
    "print(cm_train)\n",
    "\n"
   ]
  },
  {
   "cell_type": "code",
   "execution_count": 15,
   "id": "76e38e04",
   "metadata": {},
   "outputs": [
    {
     "name": "stdout",
     "output_type": "stream",
     "text": [
      "The training accuracy is 1.0\n",
      "The test accuracy is 0.9875\n"
     ]
    }
   ],
   "source": [
    "# Accuracy for testing and training  \n",
    "training_accuracy = accuracy_score(y_train,model.predict(X_train))\n",
    "print(f\"The training accuracy is {training_accuracy}\")\n",
    "\n",
    "test_accuracy = accuracy_score(y_test,model.predict(X_test))\n",
    "print(f\"The test accuracy is {test_accuracy}\")"
   ]
  },
  {
   "cell_type": "code",
   "execution_count": 16,
   "id": "59e6021c",
   "metadata": {},
   "outputs": [
    {
     "name": "stdout",
     "output_type": "stream",
     "text": [
      "0.22853708670585626\n"
     ]
    }
   ],
   "source": [
    "# The line of best fit\n",
    "w1,w2  = model.coef_[0]\n",
    "intercept = model.intercept_[0]\n",
    "x1_boundaries = [0,-intercept/w1]\n",
    "x2_boundaries = [-intercept/w2,0]\n",
    "\n",
    "\n",
    "# The max and reach \n",
    "weigths = model.coef_[0]\n",
    "weigths = np.array(weigths).reshape(2,1)\n",
    "\n",
    "gamma = float(\"inf\")\n",
    "\n",
    "for x in np.array(X):\n",
    "   \n",
    "    x = x.reshape(2,1)\n",
    "    product = weigths*x\n",
    "    distance = np.linalg.norm(product)\n",
    "    if distance != 0:\n",
    "        gamma = min(distance,gamma )\n",
    "\n",
    "# upper_bound\n",
    "x1_upper_boundaries =  [0,-intercept/w1 + gamma]\n",
    "x2_upper_boundaries = [-intercept/w2 + gamma,0]\n",
    "\n",
    "# lower_bound\n",
    "x1_lower_boundaries  = [0,-intercept/w1 - gamma ]\n",
    "x2_lower_boundaries = [-intercept/w2 - gamma,0]\n",
    "\n",
    "print(gamma)\n"
   ]
  },
  {
   "cell_type": "code",
   "execution_count": 17,
   "id": "04261a19",
   "metadata": {},
   "outputs": [
    {
     "data": {
      "text/plain": [
       "Text(0.5, 1.0, 'Scatter plot showing the line of best fit using a perceptron model')"
      ]
     },
     "execution_count": 17,
     "metadata": {},
     "output_type": "execute_result"
    },
    {
     "data": {
      "image/png": "[encoded data removed]",
      "text/plain": [
       "<Figure size 576x576 with 1 Axes>"
      ]
     },
     "metadata": {
      "needs_background": "light"
     },
     "output_type": "display_data"
    }
   ],
   "source": [
    "#plotting the upper boundaries and lower boundaries\n",
    "plot1 = plt\n",
    "plot1.rcParams[\"figure.figsize\"] = (8,8)\n",
    "for a,b,c in zip(x1,x2,y1):\n",
    "    if c == 1:\n",
    "        plot1.scatter(a, b, alpha=0.5, marker='+',color = \"blue\",\n",
    "            label=\"Legend\", cmap=\"plasma\")\n",
    "    else:\n",
    "        plot1.scatter(a,b, alpha=0.5, marker='o',color=\"purple\",\n",
    "            label =\"Legend\",cmap = 'plasma')\n",
    "\n",
    "plot1.plot(x1_boundaries,x2_boundaries,color =\"red\",lw = 4)\n",
    "\n",
    "plot1.plot(x1_upper_boundaries,x2_upper_boundaries,color =\"yellow\", linestyle= 'dotted',lw = 4)\n",
    "\n",
    "plot1.plot(x1_lower_boundaries,x2_lower_boundaries,color =\"green\",linestyle= 'dotted', lw = 4)\n",
    "plot1.xlabel(\"X1\")\n",
    "plot1.ylabel(\"X2\")\n",
    "plot1.title(\"Scatter plot showing the line of best fit using a perceptron model\")\n"
   ]
  }
 ],
 "metadata": {
  "kernelspec": {
   "display_name": "Python 3 (ipykernel)",
   "language": "python",
   "name": "python3"
  },
  "language_info": {
   "codemirror_mode": {
    "name": "ipython",
    "version": 3
   },
   "file_extension": ".py",
   "mimetype": "text/x-python",
   "name": "python",
   "nbconvert_exporter": "python",
   "pygments_lexer": "ipython3",
   "version": "3.9.12"
  }
 },
 "nbformat": 4,
 "nbformat_minor": 5
}
